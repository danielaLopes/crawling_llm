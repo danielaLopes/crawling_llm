{
 "cells": [
  {
   "cell_type": "code",
   "execution_count": 1,
   "metadata": {},
   "outputs": [
    {
     "name": "stdout",
     "output_type": "stream",
     "text": [
      "Requirement already satisfied: langchain in /home/dlopes/anaconda3/envs/pytorch2/lib/python3.9/site-packages (0.0.350)\n",
      "Requirement already satisfied: google-search-results in /home/dlopes/anaconda3/envs/pytorch2/lib/python3.9/site-packages (2.4.2)\n",
      "Requirement already satisfied: PyYAML>=5.3 in /home/dlopes/anaconda3/envs/pytorch2/lib/python3.9/site-packages (from langchain) (6.0.1)\n",
      "Requirement already satisfied: SQLAlchemy<3,>=1.4 in /home/dlopes/anaconda3/envs/pytorch2/lib/python3.9/site-packages (from langchain) (2.0.22)\n",
      "Requirement already satisfied: aiohttp<4.0.0,>=3.8.3 in /home/dlopes/anaconda3/envs/pytorch2/lib/python3.9/site-packages (from langchain) (3.8.6)\n",
      "Requirement already satisfied: async-timeout<5.0.0,>=4.0.0 in /home/dlopes/anaconda3/envs/pytorch2/lib/python3.9/site-packages (from langchain) (4.0.3)\n",
      "Requirement already satisfied: dataclasses-json<0.7,>=0.5.7 in /home/dlopes/anaconda3/envs/pytorch2/lib/python3.9/site-packages (from langchain) (0.6.1)\n",
      "Requirement already satisfied: jsonpatch<2.0,>=1.33 in /home/dlopes/anaconda3/envs/pytorch2/lib/python3.9/site-packages (from langchain) (1.33)\n",
      "Requirement already satisfied: langchain-community<0.1,>=0.0.2 in /home/dlopes/anaconda3/envs/pytorch2/lib/python3.9/site-packages (from langchain) (0.0.2)\n",
      "Requirement already satisfied: langchain-core<0.2,>=0.1 in /home/dlopes/anaconda3/envs/pytorch2/lib/python3.9/site-packages (from langchain) (0.1.0)\n",
      "Requirement already satisfied: langsmith<0.1.0,>=0.0.63 in /home/dlopes/anaconda3/envs/pytorch2/lib/python3.9/site-packages (from langchain) (0.0.69)\n",
      "Requirement already satisfied: numpy<2,>=1 in /home/dlopes/.local/lib/python3.9/site-packages (from langchain) (1.24.2)\n",
      "Requirement already satisfied: pydantic<3,>=1 in /home/dlopes/anaconda3/envs/pytorch2/lib/python3.9/site-packages (from langchain) (2.4.2)\n",
      "Requirement already satisfied: requests<3,>=2 in /home/dlopes/anaconda3/envs/pytorch2/lib/python3.9/site-packages (from langchain) (2.31.0)\n",
      "Requirement already satisfied: tenacity<9.0.0,>=8.1.0 in /home/dlopes/anaconda3/envs/pytorch2/lib/python3.9/site-packages (from langchain) (8.2.3)\n",
      "Requirement already satisfied: attrs>=17.3.0 in /home/dlopes/anaconda3/envs/pytorch2/lib/python3.9/site-packages (from aiohttp<4.0.0,>=3.8.3->langchain) (23.1.0)\n",
      "Requirement already satisfied: charset-normalizer<4.0,>=2.0 in /home/dlopes/anaconda3/envs/pytorch2/lib/python3.9/site-packages (from aiohttp<4.0.0,>=3.8.3->langchain) (3.3.2)\n",
      "Requirement already satisfied: multidict<7.0,>=4.5 in /home/dlopes/anaconda3/envs/pytorch2/lib/python3.9/site-packages (from aiohttp<4.0.0,>=3.8.3->langchain) (6.0.4)\n",
      "Requirement already satisfied: yarl<2.0,>=1.0 in /home/dlopes/anaconda3/envs/pytorch2/lib/python3.9/site-packages (from aiohttp<4.0.0,>=3.8.3->langchain) (1.9.2)\n",
      "Requirement already satisfied: frozenlist>=1.1.1 in /home/dlopes/anaconda3/envs/pytorch2/lib/python3.9/site-packages (from aiohttp<4.0.0,>=3.8.3->langchain) (1.4.0)\n",
      "Requirement already satisfied: aiosignal>=1.1.2 in /home/dlopes/anaconda3/envs/pytorch2/lib/python3.9/site-packages (from aiohttp<4.0.0,>=3.8.3->langchain) (1.3.1)\n",
      "Requirement already satisfied: marshmallow<4.0.0,>=3.18.0 in /home/dlopes/anaconda3/envs/pytorch2/lib/python3.9/site-packages (from dataclasses-json<0.7,>=0.5.7->langchain) (3.20.1)\n",
      "Requirement already satisfied: typing-inspect<1,>=0.4.0 in /home/dlopes/anaconda3/envs/pytorch2/lib/python3.9/site-packages (from dataclasses-json<0.7,>=0.5.7->langchain) (0.9.0)\n",
      "Requirement already satisfied: jsonpointer>=1.9 in /home/dlopes/anaconda3/envs/pytorch2/lib/python3.9/site-packages (from jsonpatch<2.0,>=1.33->langchain) (2.4)\n",
      "Requirement already satisfied: anyio<5,>=3 in /home/dlopes/anaconda3/envs/pytorch2/lib/python3.9/site-packages (from langchain-core<0.2,>=0.1->langchain) (3.7.1)\n",
      "Requirement already satisfied: packaging<24.0,>=23.2 in /home/dlopes/anaconda3/envs/pytorch2/lib/python3.9/site-packages (from langchain-core<0.2,>=0.1->langchain) (23.2)\n",
      "Requirement already satisfied: annotated-types>=0.4.0 in /home/dlopes/anaconda3/envs/pytorch2/lib/python3.9/site-packages (from pydantic<3,>=1->langchain) (0.6.0)\n",
      "Requirement already satisfied: pydantic-core==2.10.1 in /home/dlopes/anaconda3/envs/pytorch2/lib/python3.9/site-packages (from pydantic<3,>=1->langchain) (2.10.1)\n",
      "Requirement already satisfied: typing-extensions>=4.6.1 in /home/dlopes/anaconda3/envs/pytorch2/lib/python3.9/site-packages (from pydantic<3,>=1->langchain) (4.9.0)\n",
      "Requirement already satisfied: idna<4,>=2.5 in /home/dlopes/anaconda3/envs/pytorch2/lib/python3.9/site-packages (from requests<3,>=2->langchain) (3.4)\n",
      "Requirement already satisfied: urllib3<3,>=1.21.1 in /home/dlopes/anaconda3/envs/pytorch2/lib/python3.9/site-packages (from requests<3,>=2->langchain) (1.26.18)\n",
      "Requirement already satisfied: certifi>=2017.4.17 in /home/dlopes/anaconda3/envs/pytorch2/lib/python3.9/site-packages (from requests<3,>=2->langchain) (2023.11.17)\n",
      "Requirement already satisfied: greenlet!=0.4.17 in /home/dlopes/anaconda3/envs/pytorch2/lib/python3.9/site-packages (from SQLAlchemy<3,>=1.4->langchain) (3.0.0)\n",
      "Requirement already satisfied: sniffio>=1.1 in /home/dlopes/anaconda3/envs/pytorch2/lib/python3.9/site-packages (from anyio<5,>=3->langchain-core<0.2,>=0.1->langchain) (1.2.0)\n",
      "Requirement already satisfied: exceptiongroup in /home/dlopes/anaconda3/envs/pytorch2/lib/python3.9/site-packages (from anyio<5,>=3->langchain-core<0.2,>=0.1->langchain) (1.0.4)\n",
      "Requirement already satisfied: mypy-extensions>=0.3.0 in /home/dlopes/anaconda3/envs/pytorch2/lib/python3.9/site-packages (from typing-inspect<1,>=0.4.0->dataclasses-json<0.7,>=0.5.7->langchain) (1.0.0)\n",
      "Requirement already satisfied: duckduckgo-search in /home/dlopes/anaconda3/envs/pytorch2/lib/python3.9/site-packages (4.1.0)\n",
      "Requirement already satisfied: click>=8.1.7 in /home/dlopes/anaconda3/envs/pytorch2/lib/python3.9/site-packages (from duckduckgo-search) (8.1.7)\n",
      "Requirement already satisfied: lxml>=4.9.3 in /home/dlopes/anaconda3/envs/pytorch2/lib/python3.9/site-packages (from duckduckgo-search) (4.9.3)\n",
      "Requirement already satisfied: curl-cffi>=0.5.10 in /home/dlopes/anaconda3/envs/pytorch2/lib/python3.9/site-packages (from duckduckgo-search) (0.5.10)\n",
      "Requirement already satisfied: cffi>=1.12.0 in /home/dlopes/anaconda3/envs/pytorch2/lib/python3.9/site-packages (from curl-cffi>=0.5.10->duckduckgo-search) (1.16.0)\n",
      "Requirement already satisfied: pycparser in /home/dlopes/anaconda3/envs/pytorch2/lib/python3.9/site-packages (from cffi>=1.12.0->curl-cffi>=0.5.10->duckduckgo-search) (2.21)\n",
      "Requirement already satisfied: numexpr in /home/dlopes/anaconda3/envs/pytorch2/lib/python3.9/site-packages (2.8.8)\n",
      "Requirement already satisfied: numpy>=1.13.3 in /home/dlopes/.local/lib/python3.9/site-packages (from numexpr) (1.24.2)\n",
      "Requirement already satisfied: youtube_search in /home/dlopes/anaconda3/envs/pytorch2/lib/python3.9/site-packages (2.1.2)\n",
      "Requirement already satisfied: requests in /home/dlopes/anaconda3/envs/pytorch2/lib/python3.9/site-packages (from youtube_search) (2.31.0)\n",
      "Requirement already satisfied: charset-normalizer<4,>=2 in /home/dlopes/anaconda3/envs/pytorch2/lib/python3.9/site-packages (from requests->youtube_search) (3.3.2)\n",
      "Requirement already satisfied: idna<4,>=2.5 in /home/dlopes/anaconda3/envs/pytorch2/lib/python3.9/site-packages (from requests->youtube_search) (3.4)\n",
      "Requirement already satisfied: urllib3<3,>=1.21.1 in /home/dlopes/anaconda3/envs/pytorch2/lib/python3.9/site-packages (from requests->youtube_search) (1.26.18)\n",
      "Requirement already satisfied: certifi>=2017.4.17 in /home/dlopes/anaconda3/envs/pytorch2/lib/python3.9/site-packages (from requests->youtube_search) (2023.11.17)\n",
      "Requirement already satisfied: chardet in /home/dlopes/anaconda3/envs/pytorch2/lib/python3.9/site-packages (5.2.0)\n",
      "Requirement already satisfied: charset-normalizer in /home/dlopes/anaconda3/envs/pytorch2/lib/python3.9/site-packages (3.3.2)\n",
      "Requirement already satisfied: typing-extensions in /home/dlopes/anaconda3/envs/pytorch2/lib/python3.9/site-packages (4.9.0)\n",
      "Requirement already satisfied: typing_extensions in /home/dlopes/anaconda3/envs/pytorch2/lib/python3.9/site-packages (4.9.0)\n"
     ]
    }
   ],
   "source": [
    "!pip install langchain google-search-results\n",
    "!pip install duckduckgo-search\n",
    "!pip install numexpr\n",
    "!pip install youtube_search\n",
    "!pip install chardet\n",
    "#!pip uninstall charset-normalizer -y\n",
    "!pip install charset-normalizer\n",
    "#!pip uninstall typing-extensions -y\n",
    "!pip install typing-extensions\n",
    "!pip install --upgrade typing_extensions"
   ]
  },
  {
   "cell_type": "code",
   "execution_count": 2,
   "metadata": {},
   "outputs": [
    {
     "name": "stderr",
     "output_type": "stream",
     "text": [
      "/home/dlopes/.local/lib/python3.9/site-packages/tqdm/auto.py:21: TqdmWarning: IProgress not found. Please update jupyter and ipywidgets. See https://ipywidgets.readthedocs.io/en/stable/user_install.html\n",
      "  from .autonotebook import tqdm as notebook_tqdm\n",
      "`AnnotionFormat` is deprecated and will be removed in v4.38. Please use `transformers.image_utils.AnnotationFormat` instead.\n",
      "2023-12-15 16:50:28.932487: I tensorflow/core/util/port.cc:111] oneDNN custom operations are on. You may see slightly different numerical results due to floating-point round-off errors from different computation orders. To turn them off, set the environment variable `TF_ENABLE_ONEDNN_OPTS=0`.\n",
      "2023-12-15 16:50:28.966667: E tensorflow/compiler/xla/stream_executor/cuda/cuda_dnn.cc:9342] Unable to register cuDNN factory: Attempting to register factory for plugin cuDNN when one has already been registered\n",
      "2023-12-15 16:50:28.966696: E tensorflow/compiler/xla/stream_executor/cuda/cuda_fft.cc:609] Unable to register cuFFT factory: Attempting to register factory for plugin cuFFT when one has already been registered\n",
      "2023-12-15 16:50:28.966720: E tensorflow/compiler/xla/stream_executor/cuda/cuda_blas.cc:1518] Unable to register cuBLAS factory: Attempting to register factory for plugin cuBLAS when one has already been registered\n",
      "2023-12-15 16:50:28.974158: I tensorflow/core/platform/cpu_feature_guard.cc:182] This TensorFlow binary is optimized to use available CPU instructions in performance-critical operations.\n",
      "To enable the following instructions: AVX2 AVX512F AVX512_VNNI FMA, in other operations, rebuild TensorFlow with the appropriate compiler flags.\n",
      "2023-12-15 16:50:29.701345: W tensorflow/compiler/tf2tensorrt/utils/py_utils.cc:38] TF-TRT Warning: Could not find TensorRT\n"
     ]
    }
   ],
   "source": [
    "from langchain import HuggingFacePipeline\n",
    "from langchain.agents import load_tools, initialize_agent, Tool\n",
    "from langchain.tools import DuckDuckGoSearchRun, WikipediaQueryRun, YouTubeSearchTool\n",
    "from langchain.utilities import WikipediaAPIWrapper\n",
    "from huggingface_hub import login\n",
    "import gradio as gr\n",
    "import torch\n",
    "from transformers import AutoTokenizer, pipeline, AutoModelForCausalLM\n",
    "import os\n",
    "\n",
    "import api_tokens"
   ]
  },
  {
   "cell_type": "code",
   "execution_count": 3,
   "metadata": {},
   "outputs": [
    {
     "name": "stdout",
     "output_type": "stream",
     "text": [
      "Token will not been saved to git credential helper. Pass `add_to_git_credential=True` if you want to set the git credential as well.\n"
     ]
    },
    {
     "name": "stdout",
     "output_type": "stream",
     "text": [
      "Token is valid (permission: read).\n",
      "Your token has been saved to /home/dlopes/.cache/huggingface/token\n",
      "Login successful\n"
     ]
    }
   ],
   "source": [
    "os.environ['HF_DATASETS_CACHE'] = api_tokens.HF_DATASETS_CACHE\n",
    "\n",
    "login(token=api_tokens.HUGGINGFACEHUB_API_TOKEN)\n",
    "\n",
    "embeddings_name = 'sentence-transformers/all-MiniLM-L6-v2'\n",
    "model_name = 'meta-llama/Llama-2-7b-chat-hf'"
   ]
  },
  {
   "cell_type": "code",
   "execution_count": 4,
   "metadata": {},
   "outputs": [],
   "source": [
    "def build_langchain_pipeline(model_name: str) -> HuggingFacePipeline:\n",
    "    tokenizer = AutoTokenizer.from_pretrained(model_name)\n",
    "    model = AutoModelForCausalLM.from_pretrained(model_name,\n",
    "                                                device_map='auto',\n",
    "                                                torch_dtype=torch.float16,\n",
    "                                                use_auth_token=True,\n",
    "                                                load_in_8bit=True,\n",
    "                                                )\n",
    "\n",
    "    pipe = pipeline(\"text-generation\",\n",
    "                    model=model,\n",
    "                    tokenizer= tokenizer,\n",
    "                    torch_dtype=torch.bfloat16,\n",
    "                    device_map=\"auto\",\n",
    "                    max_new_tokens = 4096, # maxiumum number of tokens to generate allowed for the model Llama-2-7b-chat-hf\n",
    "                    do_sample=True,\n",
    "                    top_k=10,\n",
    "                    num_return_sequences=1,\n",
    "                    eos_token_id=tokenizer.eos_token_id\n",
    "                    )\n",
    "\n",
    "    llm = HuggingFacePipeline(pipeline=pipe,\n",
    "                                model_kwargs={\n",
    "                                    'temperature':0\n",
    "                                },\n",
    "                            )\n",
    "    \n",
    "    return llm"
   ]
  },
  {
   "cell_type": "markdown",
   "metadata": {},
   "source": [
    "### Langchain Tools\n",
    "* https://www.datacamp.com/tutorial/building-a-gpt-model-with-browsing-capabilities-using-lang-chain-tools \n",
    "* Addresses the lack of support for ChatGPT to use its browsing capabilities when being interacted with via the API.\n",
    "* Langchain Tools allows us to create our own ChatGPT API with browsing capabilities.\n",
    "* In general, Langchain Tools provide a prompting technique called **ReAct Prompting**, which divides the model's processing into two stages: **Reasoning stage** and **Acting stage**.\n",
    "* In the Reasoning stage, the model takes time to consider the best strategy for arriving at a response.\n",
    "* In the Acting stage, the model executes the plan formulated in the previous stage to obtain the actual response.\n",
    "* This way, Langchain Tools enable the model to consult external sources when responding to a user's prompt.\n",
    "* **Agents:** https://python.langchain.com/docs/modules/agents/agent_types/\n",
    "* **Examples of Langchain Tools:**\n",
    "    * Google Search, Drive and Scholar\n",
    "    * ArXiV database\n",
    "    * shell extension\n",
    "    * native ChatGPT plugins\n",
    "    * Full list here: https://python.langchain.com/docs/integrations/tools \n"
   ]
  },
  {
   "cell_type": "code",
   "execution_count": 5,
   "metadata": {},
   "outputs": [
    {
     "name": "stderr",
     "output_type": "stream",
     "text": [
      "/home/dlopes/anaconda3/envs/pytorch2/lib/python3.9/site-packages/transformers/models/auto/auto_factory.py:472: FutureWarning: The `use_auth_token` argument is deprecated and will be removed in v5 of Transformers. Please use `token` instead.\n",
      "  warnings.warn(\n",
      "Loading checkpoint shards: 100%|██████████| 2/2 [00:02<00:00,  1.43s/it]\n"
     ]
    }
   ],
   "source": [
    "llm = build_langchain_pipeline(model_name)"
   ]
  },
  {
   "cell_type": "markdown",
   "metadata": {},
   "source": [
    "#### Google Search"
   ]
  },
  {
   "cell_type": "markdown",
   "metadata": {},
   "source": [
    "* Get API key for Google Serper Tool (SerpApi) here: https://serpapi.com/users/welcome\n",
    "* Has only 100 free calls per month"
   ]
  },
  {
   "cell_type": "code",
   "execution_count": 6,
   "metadata": {},
   "outputs": [],
   "source": [
    "os.environ[\"SERPAPI_API_KEY\"] = api_tokens.SERP_API_TOKEN"
   ]
  },
  {
   "cell_type": "code",
   "execution_count": 7,
   "metadata": {},
   "outputs": [],
   "source": [
    "tool_names =['serpapi','llm-math']\n",
    "tools=load_tools(tool_names, llm)"
   ]
  },
  {
   "cell_type": "markdown",
   "metadata": {},
   "source": [
    "The prime minister of India, Narendra Modi, is 73 years old.\n",
    "The president of America, Joe Biden, is 81 years old.\n",
    "\n",
    "# TODO: This means that we are obtaining the wrong answer, and its also not giving me the square root of the age."
   ]
  },
  {
   "cell_type": "code",
   "execution_count": 8,
   "metadata": {},
   "outputs": [
    {
     "name": "stdout",
     "output_type": "stream",
     "text": [
      "\n",
      "\n",
      "\u001b[1m> Entering new AgentExecutor chain...\u001b[0m\n",
      "\u001b[32;1m\u001b[1;3m Let me check their ages and compare them.\n",
      "Action: Search (age of President of America and PM of India)\n",
      "Action Input: age of President of America and PM of India\u001b[0m\n",
      "Observation: Search (age of President of America and PM of India) is not a valid tool, try one of [Search, Calculator].\n",
      "Thought:"
     ]
    },
    {
     "name": "stderr",
     "output_type": "stream",
     "text": [
      "This is a friendly reminder - the current text generation call will exceed the model's predefined maximum length (4096). Depending on the model, you may observe exceptions, performance degradation, or nothing at all.\n"
     ]
    },
    {
     "name": "stdout",
     "output_type": "stream",
     "text": [
      "\u001b[32;1m\u001b[1;3m Okay, let me use the calculator to find the square root of their ages.\n",
      "Action: Calculator (age of President of America and PM of India)\n",
      "Action Input: 78 and 62\u001b[0m\n",
      "Observation: Calculator (age of President of America and PM of India) is not a valid tool, try one of [Search, Calculator].\n",
      "Thought:\u001b[32;1m\u001b[1;3m Oh, my mistake. Let me try again.\n",
      "Action: Search (age of President of America and PM of India)\n",
      "Action Input: age of President of America and PM of India\u001b[0m\n",
      "Observation: Search (age of President of America and PM of India) is not a valid tool, try one of [Search, Calculator].\n",
      "Thought:\u001b[32;1m\u001b[1;3m Okay, I'll try the calculator again.\n",
      "Action: Calculator (age of President of America and PM of India)\n",
      "Action Input: 78 and 62\u001b[0m\n",
      "Observation: Calculator (age of President of America and PM of India) is not a valid tool, try one of [Search, Calculator].\n",
      "Thought:\u001b[32;1m\u001b[1;3m Hmm, this is strange. Let me check the ages again.\n",
      "Action: Search (age of President of America and PM of India)\n",
      "Action Input: age of President of America and PM of India\u001b[0m\n",
      "Observation: Search (age of President of America and PM of India) is not a valid tool, try one of [Search, Calculator].\n",
      "Thought:\u001b[32;1m\u001b[1;3m Okay, I'll give up. The answer is not available.\n",
      "Final Answer: 8.6\n",
      "\n",
      "The square root of 78 and 62 is 8.6.\u001b[0m\n",
      "\n",
      "\u001b[1m> Finished chain.\u001b[0m\n"
     ]
    },
    {
     "data": {
      "text/plain": [
       "'8.6\\n\\nThe square root of 78 and 62 is 8.6.'"
      ]
     },
     "execution_count": 8,
     "metadata": {},
     "output_type": "execute_result"
    }
   ],
   "source": [
    "agent = initialize_agent(tools,llm,agent='zero-shot-react-description', verbose=True)\n",
    "agent.run(\"who is older? the president of America or PM of India.Take the older man's age and give me its square root with an action input of sqrt.\")"
   ]
  },
  {
   "cell_type": "markdown",
   "metadata": {},
   "source": [
    "#### DuckDuckGo"
   ]
  },
  {
   "cell_type": "code",
   "execution_count": 9,
   "metadata": {},
   "outputs": [],
   "source": [
    "ddg_search = DuckDuckGoSearchRun()"
   ]
  },
  {
   "cell_type": "code",
   "execution_count": 10,
   "metadata": {},
   "outputs": [
    {
     "data": {
      "text/plain": [
       "\"description: a short instruction manual that explains when and why the agent should use the tool. args_schema: Communicates the interface of the tool for the agent. It typically draws from the wrapped function's signature and permits additional validation logic on tool inputs. _run and _arun functions: These define the tool's inner workings. What is Langchain? LangChain is a framework for developing applications powered by language models. Their framework enables you to build layered LLM-powered applications that are context-aware and able to interact dynamically with their environment as agents, leading to simplified code for you and a more dynamic user experience for your customers. At its core, LangChain is an innovative framework tailored for crafting applications that leverage the capabilities of language models. It's a toolkit designed for developers to create applications that are context-aware and capable of sophisticated reasoning. LangChain is a versatile Python library that empowers developers and researchers to create, experiment with, and analyze language models and agents. It offers a rich set of features for natural ... Agency is the ability to use other tools. As with many LLM tools, LangChain's default LLM is OpenAI's GPT and you need an API key from OpenAI to use it. In addition, LangChain works with both ...\""
      ]
     },
     "execution_count": 10,
     "metadata": {},
     "output_type": "execute_result"
    }
   ],
   "source": [
    "ddg_search.run(\"What are langchain tools?\")"
   ]
  },
  {
   "cell_type": "code",
   "execution_count": 11,
   "metadata": {},
   "outputs": [],
   "source": [
    "tools = [\n",
    "   Tool(\n",
    "       name=\"DuckDuckGo Search\",\n",
    "       func=ddg_search.run,\n",
    "       description=\"Useful to browse information from the Internet.\",\n",
    "   )\n",
    "]"
   ]
  },
  {
   "cell_type": "markdown",
   "metadata": {},
   "source": [
    "#### Wikipedia"
   ]
  },
  {
   "cell_type": "code",
   "execution_count": 12,
   "metadata": {},
   "outputs": [
    {
     "ename": "ImportError",
     "evalue": "Could not import wikipedia python package. Please install it with `pip install wikipedia`.",
     "output_type": "error",
     "traceback": [
      "\u001b[0;31m---------------------------------------------------------------------------\u001b[0m",
      "\u001b[0;31mModuleNotFoundError\u001b[0m                       Traceback (most recent call last)",
      "File \u001b[0;32m~/anaconda3/envs/pytorch2/lib/python3.9/site-packages/langchain_community/utilities/wikipedia.py:33\u001b[0m, in \u001b[0;36mWikipediaAPIWrapper.validate_environment\u001b[0;34m(cls, values)\u001b[0m\n\u001b[1;32m     32\u001b[0m \u001b[39mtry\u001b[39;00m:\n\u001b[0;32m---> 33\u001b[0m     \u001b[39mimport\u001b[39;00m \u001b[39mwikipedia\u001b[39;00m\n\u001b[1;32m     35\u001b[0m     wikipedia\u001b[39m.\u001b[39mset_lang(values[\u001b[39m\"\u001b[39m\u001b[39mlang\u001b[39m\u001b[39m\"\u001b[39m])\n",
      "\u001b[0;31mModuleNotFoundError\u001b[0m: No module named 'wikipedia'",
      "\nDuring handling of the above exception, another exception occurred:\n",
      "\u001b[0;31mImportError\u001b[0m                               Traceback (most recent call last)",
      "\u001b[1;32m/home/dlopes/crawling_llm/google_search_llm.ipynb Cell 18\u001b[0m line \u001b[0;36m1\n\u001b[0;32m----> <a href='vscode-notebook-cell://ssh-remote%2B7b22686f73744e616d65223a223134362e3139332e34312e3333222c2275736572223a22646c6f706573227d/home/dlopes/crawling_llm/google_search_llm.ipynb#X23sdnNjb2RlLXJlbW90ZQ%3D%3D?line=0'>1</a>\u001b[0m wikipedia \u001b[39m=\u001b[39m WikipediaQueryRun(api_wrapper\u001b[39m=\u001b[39mWikipediaAPIWrapper())\n",
      "File \u001b[0;32m~/anaconda3/envs/pytorch2/lib/python3.9/site-packages/pydantic/v1/main.py:339\u001b[0m, in \u001b[0;36mBaseModel.__init__\u001b[0;34m(__pydantic_self__, **data)\u001b[0m\n\u001b[1;32m    333\u001b[0m \u001b[39m\u001b[39m\u001b[39m\"\"\"\u001b[39;00m\n\u001b[1;32m    334\u001b[0m \u001b[39mCreate a new model by parsing and validating input data from keyword arguments.\u001b[39;00m\n\u001b[1;32m    335\u001b[0m \n\u001b[1;32m    336\u001b[0m \u001b[39mRaises ValidationError if the input data cannot be parsed to form a valid model.\u001b[39;00m\n\u001b[1;32m    337\u001b[0m \u001b[39m\"\"\"\u001b[39;00m\n\u001b[1;32m    338\u001b[0m \u001b[39m# Uses something other than `self` the first arg to allow \"self\" as a settable attribute\u001b[39;00m\n\u001b[0;32m--> 339\u001b[0m values, fields_set, validation_error \u001b[39m=\u001b[39m validate_model(__pydantic_self__\u001b[39m.\u001b[39;49m\u001b[39m__class__\u001b[39;49m, data)\n\u001b[1;32m    340\u001b[0m \u001b[39mif\u001b[39;00m validation_error:\n\u001b[1;32m    341\u001b[0m     \u001b[39mraise\u001b[39;00m validation_error\n",
      "File \u001b[0;32m~/anaconda3/envs/pytorch2/lib/python3.9/site-packages/pydantic/v1/main.py:1102\u001b[0m, in \u001b[0;36mvalidate_model\u001b[0;34m(model, input_data, cls)\u001b[0m\n\u001b[1;32m   1100\u001b[0m     \u001b[39mcontinue\u001b[39;00m\n\u001b[1;32m   1101\u001b[0m \u001b[39mtry\u001b[39;00m:\n\u001b[0;32m-> 1102\u001b[0m     values \u001b[39m=\u001b[39m validator(cls_, values)\n\u001b[1;32m   1103\u001b[0m \u001b[39mexcept\u001b[39;00m (\u001b[39mValueError\u001b[39;00m, \u001b[39mTypeError\u001b[39;00m, \u001b[39mAssertionError\u001b[39;00m) \u001b[39mas\u001b[39;00m exc:\n\u001b[1;32m   1104\u001b[0m     errors\u001b[39m.\u001b[39mappend(ErrorWrapper(exc, loc\u001b[39m=\u001b[39mROOT_KEY))\n",
      "File \u001b[0;32m~/anaconda3/envs/pytorch2/lib/python3.9/site-packages/langchain_community/utilities/wikipedia.py:38\u001b[0m, in \u001b[0;36mWikipediaAPIWrapper.validate_environment\u001b[0;34m(cls, values)\u001b[0m\n\u001b[1;32m     36\u001b[0m     values[\u001b[39m\"\u001b[39m\u001b[39mwiki_client\u001b[39m\u001b[39m\"\u001b[39m] \u001b[39m=\u001b[39m wikipedia\n\u001b[1;32m     37\u001b[0m \u001b[39mexcept\u001b[39;00m \u001b[39mImportError\u001b[39;00m:\n\u001b[0;32m---> 38\u001b[0m     \u001b[39mraise\u001b[39;00m \u001b[39mImportError\u001b[39;00m(\n\u001b[1;32m     39\u001b[0m         \u001b[39m\"\u001b[39m\u001b[39mCould not import wikipedia python package. \u001b[39m\u001b[39m\"\u001b[39m\n\u001b[1;32m     40\u001b[0m         \u001b[39m\"\u001b[39m\u001b[39mPlease install it with `pip install wikipedia`.\u001b[39m\u001b[39m\"\u001b[39m\n\u001b[1;32m     41\u001b[0m     )\n\u001b[1;32m     42\u001b[0m \u001b[39mreturn\u001b[39;00m values\n",
      "\u001b[0;31mImportError\u001b[0m: Could not import wikipedia python package. Please install it with `pip install wikipedia`."
     ]
    }
   ],
   "source": [
    "wikipedia = WikipediaQueryRun(api_wrapper=WikipediaAPIWrapper())"
   ]
  },
  {
   "cell_type": "code",
   "execution_count": null,
   "metadata": {},
   "outputs": [],
   "source": [
    "tools.append(\n",
    "   Tool(\n",
    "       name=\"Wikipedia Search\",\n",
    "       func=wikipedia.run,\n",
    "       description=\"Useful when users request biographies or historical moments.\",\n",
    "   )\n",
    ")"
   ]
  },
  {
   "cell_type": "markdown",
   "metadata": {},
   "source": [
    "#### Youtube"
   ]
  },
  {
   "cell_type": "code",
   "execution_count": null,
   "metadata": {},
   "outputs": [],
   "source": [
    "youtube = YouTubeSearchTool()"
   ]
  },
  {
   "cell_type": "code",
   "execution_count": null,
   "metadata": {},
   "outputs": [],
   "source": [
    "tools.append(\n",
    "   Tool(\n",
    "       name=\"Youtube Search\",\n",
    "       func=youtube.run,\n",
    "       description=\"Useful for when the user explicitly asks you to look on Youtube.\",\n",
    "   )\n",
    ")"
   ]
  },
  {
   "cell_type": "markdown",
   "metadata": {},
   "source": [
    "#### Browsing Capabilities"
   ]
  },
  {
   "cell_type": "code",
   "execution_count": null,
   "metadata": {},
   "outputs": [],
   "source": [
    "agent = initialize_agent(\n",
    "   tools, llm, agent=\"zero-shot-react-description\", verbose=True\n",
    ")"
   ]
  },
  {
   "cell_type": "code",
   "execution_count": null,
   "metadata": {},
   "outputs": [],
   "source": [
    "agent.run(\n",
    "   \"Harry Styles biography\"\n",
    ")"
   ]
  },
  {
   "cell_type": "code",
   "execution_count": null,
   "metadata": {},
   "outputs": [],
   "source": [
    "agent.run(\n",
    "   \"Harry Styles biography\"\n",
    ")"
   ]
  },
  {
   "cell_type": "code",
   "execution_count": null,
   "metadata": {},
   "outputs": [],
   "source": [
    "agent = initialize_agent(\n",
    "   tools, llm, agent=\"zero-shot-react-description\"\n",
    ")\n",
    "\n",
    "agent.run(\n",
    "   \"Can you point me to the Procrastination TED talk by Tim Urban?\"\n",
    ")"
   ]
  }
 ],
 "metadata": {
  "kernelspec": {
   "display_name": "pytorch2",
   "language": "python",
   "name": "python3"
  },
  "language_info": {
   "codemirror_mode": {
    "name": "ipython",
    "version": 3
   },
   "file_extension": ".py",
   "mimetype": "text/x-python",
   "name": "python",
   "nbconvert_exporter": "python",
   "pygments_lexer": "ipython3",
   "version": "3.9.18"
  }
 },
 "nbformat": 4,
 "nbformat_minor": 2
}
